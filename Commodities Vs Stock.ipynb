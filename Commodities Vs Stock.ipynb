{
 "cells": [
  {
   "cell_type": "code",
   "execution_count": 2,
   "id": "06e60f42",
   "metadata": {},
   "outputs": [],
   "source": [
    "import numpy as np\n",
    "import pandas as pd\n",
    "import yfinance as yf #use to fetch stock data\n",
    "import matplotlib.pyplot as plt"
   ]
  },
  {
   "cell_type": "code",
   "execution_count": 3,
   "id": "9e21db62",
   "metadata": {},
   "outputs": [],
   "source": [
    "portfolio_commodities = [\"GC=F\",\"SI=F\",\"CL=F\"]"
   ]
  },
  {
   "cell_type": "code",
   "execution_count": 4,
   "id": "c6633288",
   "metadata": {
    "scrolled": false
   },
   "outputs": [
    {
     "name": "stderr",
     "output_type": "stream",
     "text": [
      "[*********************100%%**********************]  3 of 3 completed\n"
     ]
    },
    {
     "data": {
      "text/html": [
       "<div>\n",
       "<style scoped>\n",
       "    .dataframe tbody tr th:only-of-type {\n",
       "        vertical-align: middle;\n",
       "    }\n",
       "\n",
       "    .dataframe tbody tr th {\n",
       "        vertical-align: top;\n",
       "    }\n",
       "\n",
       "    .dataframe thead th {\n",
       "        text-align: right;\n",
       "    }\n",
       "</style>\n",
       "<table border=\"1\" class=\"dataframe\">\n",
       "  <thead>\n",
       "    <tr style=\"text-align: right;\">\n",
       "      <th>Ticker</th>\n",
       "      <th>CL=F</th>\n",
       "      <th>GC=F</th>\n",
       "      <th>SI=F</th>\n",
       "    </tr>\n",
       "    <tr>\n",
       "      <th>Date</th>\n",
       "      <th></th>\n",
       "      <th></th>\n",
       "      <th></th>\n",
       "    </tr>\n",
       "  </thead>\n",
       "  <tbody>\n",
       "    <tr>\n",
       "      <th>2023-12-01</th>\n",
       "      <td>74.070000</td>\n",
       "      <td>2071.000000</td>\n",
       "      <td>25.499001</td>\n",
       "    </tr>\n",
       "    <tr>\n",
       "      <th>2023-12-04</th>\n",
       "      <td>73.040001</td>\n",
       "      <td>2024.099976</td>\n",
       "      <td>24.555000</td>\n",
       "    </tr>\n",
       "    <tr>\n",
       "      <th>2023-12-05</th>\n",
       "      <td>72.320000</td>\n",
       "      <td>2018.500000</td>\n",
       "      <td>24.201000</td>\n",
       "    </tr>\n",
       "    <tr>\n",
       "      <th>2023-12-06</th>\n",
       "      <td>69.379997</td>\n",
       "      <td>2030.500000</td>\n",
       "      <td>23.889000</td>\n",
       "    </tr>\n",
       "    <tr>\n",
       "      <th>2023-12-07</th>\n",
       "      <td>69.339996</td>\n",
       "      <td>2029.900024</td>\n",
       "      <td>23.732000</td>\n",
       "    </tr>\n",
       "    <tr>\n",
       "      <th>...</th>\n",
       "      <td>...</td>\n",
       "      <td>...</td>\n",
       "      <td>...</td>\n",
       "    </tr>\n",
       "    <tr>\n",
       "      <th>2024-11-25</th>\n",
       "      <td>68.940002</td>\n",
       "      <td>2616.800049</td>\n",
       "      <td>30.209999</td>\n",
       "    </tr>\n",
       "    <tr>\n",
       "      <th>2024-11-26</th>\n",
       "      <td>68.769997</td>\n",
       "      <td>2620.300049</td>\n",
       "      <td>30.388000</td>\n",
       "    </tr>\n",
       "    <tr>\n",
       "      <th>2024-11-27</th>\n",
       "      <td>68.720001</td>\n",
       "      <td>2639.899902</td>\n",
       "      <td>30.111000</td>\n",
       "    </tr>\n",
       "    <tr>\n",
       "      <th>2024-11-28</th>\n",
       "      <td>68.879997</td>\n",
       "      <td>2639.699951</td>\n",
       "      <td>30.305000</td>\n",
       "    </tr>\n",
       "    <tr>\n",
       "      <th>2024-11-29</th>\n",
       "      <td>68.000000</td>\n",
       "      <td>2657.000000</td>\n",
       "      <td>30.684999</td>\n",
       "    </tr>\n",
       "  </tbody>\n",
       "</table>\n",
       "<p>252 rows × 3 columns</p>\n",
       "</div>"
      ],
      "text/plain": [
       "Ticker           CL=F         GC=F       SI=F\n",
       "Date                                         \n",
       "2023-12-01  74.070000  2071.000000  25.499001\n",
       "2023-12-04  73.040001  2024.099976  24.555000\n",
       "2023-12-05  72.320000  2018.500000  24.201000\n",
       "2023-12-06  69.379997  2030.500000  23.889000\n",
       "2023-12-07  69.339996  2029.900024  23.732000\n",
       "...               ...          ...        ...\n",
       "2024-11-25  68.940002  2616.800049  30.209999\n",
       "2024-11-26  68.769997  2620.300049  30.388000\n",
       "2024-11-27  68.720001  2639.899902  30.111000\n",
       "2024-11-28  68.879997  2639.699951  30.305000\n",
       "2024-11-29  68.000000  2657.000000  30.684999\n",
       "\n",
       "[252 rows x 3 columns]"
      ]
     },
     "execution_count": 4,
     "metadata": {},
     "output_type": "execute_result"
    }
   ],
   "source": [
    "data = yf.download(portfolio_commodities, start='2023-12-01', end='2024-12-01')['Adj Close']\n",
    "data"
   ]
  },
  {
   "cell_type": "code",
   "execution_count": 5,
   "id": "fdfb8d98",
   "metadata": {},
   "outputs": [
    {
     "data": {
      "text/html": [
       "<div>\n",
       "<style scoped>\n",
       "    .dataframe tbody tr th:only-of-type {\n",
       "        vertical-align: middle;\n",
       "    }\n",
       "\n",
       "    .dataframe tbody tr th {\n",
       "        vertical-align: top;\n",
       "    }\n",
       "\n",
       "    .dataframe thead th {\n",
       "        text-align: right;\n",
       "    }\n",
       "</style>\n",
       "<table border=\"1\" class=\"dataframe\">\n",
       "  <thead>\n",
       "    <tr style=\"text-align: right;\">\n",
       "      <th>Ticker</th>\n",
       "      <th>CL=F</th>\n",
       "      <th>GC=F</th>\n",
       "      <th>SI=F</th>\n",
       "    </tr>\n",
       "    <tr>\n",
       "      <th>Date</th>\n",
       "      <th></th>\n",
       "      <th></th>\n",
       "      <th></th>\n",
       "    </tr>\n",
       "  </thead>\n",
       "  <tbody>\n",
       "    <tr>\n",
       "      <th>2023-12-04</th>\n",
       "      <td>-0.013906</td>\n",
       "      <td>-0.022646</td>\n",
       "      <td>-0.037021</td>\n",
       "    </tr>\n",
       "    <tr>\n",
       "      <th>2023-12-05</th>\n",
       "      <td>-0.009858</td>\n",
       "      <td>-0.002767</td>\n",
       "      <td>-0.014417</td>\n",
       "    </tr>\n",
       "    <tr>\n",
       "      <th>2023-12-06</th>\n",
       "      <td>-0.040653</td>\n",
       "      <td>0.005945</td>\n",
       "      <td>-0.012892</td>\n",
       "    </tr>\n",
       "    <tr>\n",
       "      <th>2023-12-07</th>\n",
       "      <td>-0.000577</td>\n",
       "      <td>-0.000295</td>\n",
       "      <td>-0.006572</td>\n",
       "    </tr>\n",
       "    <tr>\n",
       "      <th>2023-12-08</th>\n",
       "      <td>0.027257</td>\n",
       "      <td>-0.015567</td>\n",
       "      <td>-0.032066</td>\n",
       "    </tr>\n",
       "  </tbody>\n",
       "</table>\n",
       "</div>"
      ],
      "text/plain": [
       "Ticker          CL=F      GC=F      SI=F\n",
       "Date                                    \n",
       "2023-12-04 -0.013906 -0.022646 -0.037021\n",
       "2023-12-05 -0.009858 -0.002767 -0.014417\n",
       "2023-12-06 -0.040653  0.005945 -0.012892\n",
       "2023-12-07 -0.000577 -0.000295 -0.006572\n",
       "2023-12-08  0.027257 -0.015567 -0.032066"
      ]
     },
     "execution_count": 5,
     "metadata": {},
     "output_type": "execute_result"
    }
   ],
   "source": [
    "commodities_returns= data.pct_change().dropna()\n",
    "commodities_returns.head()"
   ]
  },
  {
   "cell_type": "code",
   "execution_count": 6,
   "id": "48c9993b",
   "metadata": {},
   "outputs": [],
   "source": [
    "weights_commodities = np.array([0.34, 0.33, 0.33])"
   ]
  },
  {
   "cell_type": "code",
   "execution_count": 8,
   "id": "7e3366bf",
   "metadata": {},
   "outputs": [],
   "source": [
    "# Calculate Expected Daily Return\n",
    "portfolio_return_commodities = commodities_returns.dot(weights_commodities)\n",
    "expected_returns_commodities = portfolio_return_commodities.mean()\n"
   ]
  },
  {
   "cell_type": "code",
   "execution_count": 9,
   "id": "4fe40f68",
   "metadata": {},
   "outputs": [
    {
     "name": "stdout",
     "output_type": "stream",
     "text": [
      "Expected Daily Return commodities: 0.0006\n",
      "Portfolio Variance commodities: 0.000155\n",
      "Portfolio Volatility commodities(Risk): 0.0125\n"
     ]
    }
   ],
   "source": [
    "# Calculate covariance matrix of returns\n",
    "commodities_cov_matrix = commodities_returns.cov()\n",
    "\n",
    "# Calculate portfolio variance and volatility\n",
    "portfolio_variance = np.dot(weights_commodities.T, np.dot(commodities_cov_matrix, weights_commodities))\n",
    "portfolio_volatility = np.sqrt(portfolio_variance)\n",
    "\n",
    "# Print results\n",
    "print(f\"Expected Daily Return commodities: {expected_returns_commodities:.4f}\")\n",
    "print(f\"Portfolio Variance commodities: {portfolio_variance:.6f}\")\n",
    "print(f\"Portfolio Volatility commodities(Risk): {portfolio_volatility:.4f}\")"
   ]
  },
  {
   "cell_type": "code",
   "execution_count": 10,
   "id": "dd5ca3e1",
   "metadata": {},
   "outputs": [],
   "source": [
    "portfolio_Shares= [\"RELIANCE.NS\",\"TCS.NS\",\"HDFCBANK.NS\"]"
   ]
  },
  {
   "cell_type": "code",
   "execution_count": 11,
   "id": "cf0110f0",
   "metadata": {
    "scrolled": false
   },
   "outputs": [
    {
     "name": "stderr",
     "output_type": "stream",
     "text": [
      "[*********************100%%**********************]  3 of 3 completed\n"
     ]
    },
    {
     "data": {
      "text/html": [
       "<div>\n",
       "<style scoped>\n",
       "    .dataframe tbody tr th:only-of-type {\n",
       "        vertical-align: middle;\n",
       "    }\n",
       "\n",
       "    .dataframe tbody tr th {\n",
       "        vertical-align: top;\n",
       "    }\n",
       "\n",
       "    .dataframe thead th {\n",
       "        text-align: right;\n",
       "    }\n",
       "</style>\n",
       "<table border=\"1\" class=\"dataframe\">\n",
       "  <thead>\n",
       "    <tr style=\"text-align: right;\">\n",
       "      <th>Ticker</th>\n",
       "      <th>HDFCBANK.NS</th>\n",
       "      <th>RELIANCE.NS</th>\n",
       "      <th>TCS.NS</th>\n",
       "    </tr>\n",
       "    <tr>\n",
       "      <th>Date</th>\n",
       "      <th></th>\n",
       "      <th></th>\n",
       "      <th></th>\n",
       "    </tr>\n",
       "  </thead>\n",
       "  <tbody>\n",
       "    <tr>\n",
       "      <th>2023-12-01</th>\n",
       "      <td>1534.446533</td>\n",
       "      <td>1193.100708</td>\n",
       "      <td>3461.765869</td>\n",
       "    </tr>\n",
       "    <tr>\n",
       "      <th>2023-12-04</th>\n",
       "      <td>1587.718994</td>\n",
       "      <td>1206.006836</td>\n",
       "      <td>3462.554199</td>\n",
       "    </tr>\n",
       "    <tr>\n",
       "      <th>2023-12-05</th>\n",
       "      <td>1601.826294</td>\n",
       "      <td>1214.752197</td>\n",
       "      <td>3481.432373</td>\n",
       "    </tr>\n",
       "    <tr>\n",
       "      <th>2023-12-06</th>\n",
       "      <td>1605.871216</td>\n",
       "      <td>1226.387695</td>\n",
       "      <td>3552.902588</td>\n",
       "    </tr>\n",
       "    <tr>\n",
       "      <th>2023-12-07</th>\n",
       "      <td>1608.485352</td>\n",
       "      <td>1224.369507</td>\n",
       "      <td>3563.548584</td>\n",
       "    </tr>\n",
       "    <tr>\n",
       "      <th>...</th>\n",
       "      <td>...</td>\n",
       "      <td>...</td>\n",
       "      <td>...</td>\n",
       "    </tr>\n",
       "    <tr>\n",
       "      <th>2024-11-25</th>\n",
       "      <td>1785.599976</td>\n",
       "      <td>1287.000000</td>\n",
       "      <td>4315.100098</td>\n",
       "    </tr>\n",
       "    <tr>\n",
       "      <th>2024-11-26</th>\n",
       "      <td>1785.550049</td>\n",
       "      <td>1295.699951</td>\n",
       "      <td>4352.700195</td>\n",
       "    </tr>\n",
       "    <tr>\n",
       "      <th>2024-11-27</th>\n",
       "      <td>1812.300049</td>\n",
       "      <td>1293.199951</td>\n",
       "      <td>4332.549805</td>\n",
       "    </tr>\n",
       "    <tr>\n",
       "      <th>2024-11-28</th>\n",
       "      <td>1793.150024</td>\n",
       "      <td>1270.800049</td>\n",
       "      <td>4244.899902</td>\n",
       "    </tr>\n",
       "    <tr>\n",
       "      <th>2024-11-29</th>\n",
       "      <td>1796.050049</td>\n",
       "      <td>1292.199951</td>\n",
       "      <td>4270.850098</td>\n",
       "    </tr>\n",
       "  </tbody>\n",
       "</table>\n",
       "<p>245 rows × 3 columns</p>\n",
       "</div>"
      ],
      "text/plain": [
       "Ticker      HDFCBANK.NS  RELIANCE.NS       TCS.NS\n",
       "Date                                             \n",
       "2023-12-01  1534.446533  1193.100708  3461.765869\n",
       "2023-12-04  1587.718994  1206.006836  3462.554199\n",
       "2023-12-05  1601.826294  1214.752197  3481.432373\n",
       "2023-12-06  1605.871216  1226.387695  3552.902588\n",
       "2023-12-07  1608.485352  1224.369507  3563.548584\n",
       "...                 ...          ...          ...\n",
       "2024-11-25  1785.599976  1287.000000  4315.100098\n",
       "2024-11-26  1785.550049  1295.699951  4352.700195\n",
       "2024-11-27  1812.300049  1293.199951  4332.549805\n",
       "2024-11-28  1793.150024  1270.800049  4244.899902\n",
       "2024-11-29  1796.050049  1292.199951  4270.850098\n",
       "\n",
       "[245 rows x 3 columns]"
      ]
     },
     "execution_count": 11,
     "metadata": {},
     "output_type": "execute_result"
    }
   ],
   "source": [
    "data = yf.download(portfolio_Shares, start='2023-12-01', end='2024-12-01')['Adj Close']\n",
    "data"
   ]
  },
  {
   "cell_type": "code",
   "execution_count": 12,
   "id": "f3115f06",
   "metadata": {},
   "outputs": [
    {
     "data": {
      "text/html": [
       "<div>\n",
       "<style scoped>\n",
       "    .dataframe tbody tr th:only-of-type {\n",
       "        vertical-align: middle;\n",
       "    }\n",
       "\n",
       "    .dataframe tbody tr th {\n",
       "        vertical-align: top;\n",
       "    }\n",
       "\n",
       "    .dataframe thead th {\n",
       "        text-align: right;\n",
       "    }\n",
       "</style>\n",
       "<table border=\"1\" class=\"dataframe\">\n",
       "  <thead>\n",
       "    <tr style=\"text-align: right;\">\n",
       "      <th>Ticker</th>\n",
       "      <th>HDFCBANK.NS</th>\n",
       "      <th>RELIANCE.NS</th>\n",
       "      <th>TCS.NS</th>\n",
       "    </tr>\n",
       "    <tr>\n",
       "      <th>Date</th>\n",
       "      <th></th>\n",
       "      <th></th>\n",
       "      <th></th>\n",
       "    </tr>\n",
       "  </thead>\n",
       "  <tbody>\n",
       "    <tr>\n",
       "      <th>2023-12-04</th>\n",
       "      <td>0.034718</td>\n",
       "      <td>0.010817</td>\n",
       "      <td>0.000228</td>\n",
       "    </tr>\n",
       "    <tr>\n",
       "      <th>2023-12-05</th>\n",
       "      <td>0.008885</td>\n",
       "      <td>0.007252</td>\n",
       "      <td>0.005452</td>\n",
       "    </tr>\n",
       "    <tr>\n",
       "      <th>2023-12-06</th>\n",
       "      <td>0.002525</td>\n",
       "      <td>0.009578</td>\n",
       "      <td>0.020529</td>\n",
       "    </tr>\n",
       "    <tr>\n",
       "      <th>2023-12-07</th>\n",
       "      <td>0.001628</td>\n",
       "      <td>-0.001646</td>\n",
       "      <td>0.002996</td>\n",
       "    </tr>\n",
       "    <tr>\n",
       "      <th>2023-12-08</th>\n",
       "      <td>0.013953</td>\n",
       "      <td>-0.000529</td>\n",
       "      <td>0.003264</td>\n",
       "    </tr>\n",
       "  </tbody>\n",
       "</table>\n",
       "</div>"
      ],
      "text/plain": [
       "Ticker      HDFCBANK.NS  RELIANCE.NS    TCS.NS\n",
       "Date                                          \n",
       "2023-12-04     0.034718     0.010817  0.000228\n",
       "2023-12-05     0.008885     0.007252  0.005452\n",
       "2023-12-06     0.002525     0.009578  0.020529\n",
       "2023-12-07     0.001628    -0.001646  0.002996\n",
       "2023-12-08     0.013953    -0.000529  0.003264"
      ]
     },
     "execution_count": 12,
     "metadata": {},
     "output_type": "execute_result"
    }
   ],
   "source": [
    "share_returns= data.pct_change().dropna()\n",
    "share_returns.head()"
   ]
  },
  {
   "cell_type": "code",
   "execution_count": 13,
   "id": "fda4f3fa",
   "metadata": {},
   "outputs": [],
   "source": [
    "weights_shares = np.array([0.34, 0.33, 0.33])"
   ]
  },
  {
   "cell_type": "code",
   "execution_count": 14,
   "id": "fe1fa0cf",
   "metadata": {},
   "outputs": [],
   "source": [
    "# Calculate Expected Daily Return\n",
    "portfolio_return_shares = share_returns.dot(weights_shares)\n",
    "expected_returns_shares = portfolio_return_shares.mean()\n"
   ]
  },
  {
   "cell_type": "code",
   "execution_count": 15,
   "id": "9fdf6872",
   "metadata": {},
   "outputs": [
    {
     "name": "stdout",
     "output_type": "stream",
     "text": [
      "Expected Daily Return shares: 0.0007\n",
      "Portfolio Variance shares: 0.000093\n",
      "Portfolio Volatility shares (Risk): 0.0096\n"
     ]
    }
   ],
   "source": [
    "# Calculate covariance matrix of returns\n",
    "shares_cov_matrix = share_returns.cov()\n",
    "\n",
    "# Calculate portfolio variance and volatility\n",
    "portfolio_variance = np.dot(weights_shares.T, np.dot(shares_cov_matrix, weights_shares))\n",
    "portfolio_volatility = np.sqrt(portfolio_variance)\n",
    "\n",
    "# Print results\n",
    "print(f\"Expected Daily Return shares: {expected_returns_shares:.4f}\")\n",
    "print(f\"Portfolio Variance shares: {portfolio_variance:.6f}\")\n",
    "print(f\"Portfolio Volatility shares (Risk): {portfolio_volatility:.4f}\")"
   ]
  },
  {
   "cell_type": "code",
   "execution_count": 16,
   "id": "a979d9cb",
   "metadata": {},
   "outputs": [],
   "source": [
    "portfolio_Crypto= [\"BTC-USD\",\"ETH-USD\",\"USDT-USD\"]"
   ]
  },
  {
   "cell_type": "code",
   "execution_count": 17,
   "id": "f1d863e2",
   "metadata": {},
   "outputs": [
    {
     "name": "stderr",
     "output_type": "stream",
     "text": [
      "[*********************100%%**********************]  3 of 3 completed\n"
     ]
    },
    {
     "data": {
      "text/html": [
       "<div>\n",
       "<style scoped>\n",
       "    .dataframe tbody tr th:only-of-type {\n",
       "        vertical-align: middle;\n",
       "    }\n",
       "\n",
       "    .dataframe tbody tr th {\n",
       "        vertical-align: top;\n",
       "    }\n",
       "\n",
       "    .dataframe thead th {\n",
       "        text-align: right;\n",
       "    }\n",
       "</style>\n",
       "<table border=\"1\" class=\"dataframe\">\n",
       "  <thead>\n",
       "    <tr style=\"text-align: right;\">\n",
       "      <th>Ticker</th>\n",
       "      <th>BTC-USD</th>\n",
       "      <th>ETH-USD</th>\n",
       "      <th>USDT-USD</th>\n",
       "    </tr>\n",
       "    <tr>\n",
       "      <th>Date</th>\n",
       "      <th></th>\n",
       "      <th></th>\n",
       "      <th></th>\n",
       "    </tr>\n",
       "  </thead>\n",
       "  <tbody>\n",
       "    <tr>\n",
       "      <th>2023-12-01</th>\n",
       "      <td>38688.750000</td>\n",
       "      <td>2087.139893</td>\n",
       "      <td>1.000185</td>\n",
       "    </tr>\n",
       "    <tr>\n",
       "      <th>2023-12-02</th>\n",
       "      <td>39476.332031</td>\n",
       "      <td>2165.704102</td>\n",
       "      <td>1.000364</td>\n",
       "    </tr>\n",
       "    <tr>\n",
       "      <th>2023-12-03</th>\n",
       "      <td>39978.390625</td>\n",
       "      <td>2193.691650</td>\n",
       "      <td>1.000309</td>\n",
       "    </tr>\n",
       "    <tr>\n",
       "      <th>2023-12-04</th>\n",
       "      <td>41980.097656</td>\n",
       "      <td>2243.215820</td>\n",
       "      <td>0.999913</td>\n",
       "    </tr>\n",
       "    <tr>\n",
       "      <th>2023-12-05</th>\n",
       "      <td>44080.648438</td>\n",
       "      <td>2293.841797</td>\n",
       "      <td>1.000546</td>\n",
       "    </tr>\n",
       "    <tr>\n",
       "      <th>...</th>\n",
       "      <td>...</td>\n",
       "      <td>...</td>\n",
       "      <td>...</td>\n",
       "    </tr>\n",
       "    <tr>\n",
       "      <th>2024-11-26</th>\n",
       "      <td>91985.320312</td>\n",
       "      <td>3326.517334</td>\n",
       "      <td>0.999654</td>\n",
       "    </tr>\n",
       "    <tr>\n",
       "      <th>2024-11-27</th>\n",
       "      <td>95962.531250</td>\n",
       "      <td>3657.249268</td>\n",
       "      <td>1.000994</td>\n",
       "    </tr>\n",
       "    <tr>\n",
       "      <th>2024-11-28</th>\n",
       "      <td>95652.468750</td>\n",
       "      <td>3579.811523</td>\n",
       "      <td>1.000154</td>\n",
       "    </tr>\n",
       "    <tr>\n",
       "      <th>2024-11-29</th>\n",
       "      <td>97461.523438</td>\n",
       "      <td>3593.494385</td>\n",
       "      <td>1.000366</td>\n",
       "    </tr>\n",
       "    <tr>\n",
       "      <th>2024-11-30</th>\n",
       "      <td>96449.054688</td>\n",
       "      <td>3705.705322</td>\n",
       "      <td>1.000630</td>\n",
       "    </tr>\n",
       "  </tbody>\n",
       "</table>\n",
       "<p>366 rows × 3 columns</p>\n",
       "</div>"
      ],
      "text/plain": [
       "Ticker           BTC-USD      ETH-USD  USDT-USD\n",
       "Date                                           \n",
       "2023-12-01  38688.750000  2087.139893  1.000185\n",
       "2023-12-02  39476.332031  2165.704102  1.000364\n",
       "2023-12-03  39978.390625  2193.691650  1.000309\n",
       "2023-12-04  41980.097656  2243.215820  0.999913\n",
       "2023-12-05  44080.648438  2293.841797  1.000546\n",
       "...                  ...          ...       ...\n",
       "2024-11-26  91985.320312  3326.517334  0.999654\n",
       "2024-11-27  95962.531250  3657.249268  1.000994\n",
       "2024-11-28  95652.468750  3579.811523  1.000154\n",
       "2024-11-29  97461.523438  3593.494385  1.000366\n",
       "2024-11-30  96449.054688  3705.705322  1.000630\n",
       "\n",
       "[366 rows x 3 columns]"
      ]
     },
     "execution_count": 17,
     "metadata": {},
     "output_type": "execute_result"
    }
   ],
   "source": [
    "data = yf.download(portfolio_Crypto, start='2023-12-01', end='2024-12-01')['Adj Close']\n",
    "data"
   ]
  },
  {
   "cell_type": "code",
   "execution_count": 20,
   "id": "f73df271",
   "metadata": {},
   "outputs": [
    {
     "data": {
      "text/html": [
       "<div>\n",
       "<style scoped>\n",
       "    .dataframe tbody tr th:only-of-type {\n",
       "        vertical-align: middle;\n",
       "    }\n",
       "\n",
       "    .dataframe tbody tr th {\n",
       "        vertical-align: top;\n",
       "    }\n",
       "\n",
       "    .dataframe thead th {\n",
       "        text-align: right;\n",
       "    }\n",
       "</style>\n",
       "<table border=\"1\" class=\"dataframe\">\n",
       "  <thead>\n",
       "    <tr style=\"text-align: right;\">\n",
       "      <th>Ticker</th>\n",
       "      <th>BTC-USD</th>\n",
       "      <th>ETH-USD</th>\n",
       "      <th>USDT-USD</th>\n",
       "    </tr>\n",
       "    <tr>\n",
       "      <th>Date</th>\n",
       "      <th></th>\n",
       "      <th></th>\n",
       "      <th></th>\n",
       "    </tr>\n",
       "  </thead>\n",
       "  <tbody>\n",
       "    <tr>\n",
       "      <th>2023-12-02</th>\n",
       "      <td>0.020357</td>\n",
       "      <td>0.037642</td>\n",
       "      <td>0.000179</td>\n",
       "    </tr>\n",
       "    <tr>\n",
       "      <th>2023-12-03</th>\n",
       "      <td>0.012718</td>\n",
       "      <td>0.012923</td>\n",
       "      <td>-0.000055</td>\n",
       "    </tr>\n",
       "    <tr>\n",
       "      <th>2023-12-04</th>\n",
       "      <td>0.050070</td>\n",
       "      <td>0.022576</td>\n",
       "      <td>-0.000396</td>\n",
       "    </tr>\n",
       "    <tr>\n",
       "      <th>2023-12-05</th>\n",
       "      <td>0.050037</td>\n",
       "      <td>0.022568</td>\n",
       "      <td>0.000633</td>\n",
       "    </tr>\n",
       "    <tr>\n",
       "      <th>2023-12-06</th>\n",
       "      <td>-0.007582</td>\n",
       "      <td>-0.027108</td>\n",
       "      <td>-0.000514</td>\n",
       "    </tr>\n",
       "  </tbody>\n",
       "</table>\n",
       "</div>"
      ],
      "text/plain": [
       "Ticker       BTC-USD   ETH-USD  USDT-USD\n",
       "Date                                    \n",
       "2023-12-02  0.020357  0.037642  0.000179\n",
       "2023-12-03  0.012718  0.012923 -0.000055\n",
       "2023-12-04  0.050070  0.022576 -0.000396\n",
       "2023-12-05  0.050037  0.022568  0.000633\n",
       "2023-12-06 -0.007582 -0.027108 -0.000514"
      ]
     },
     "execution_count": 20,
     "metadata": {},
     "output_type": "execute_result"
    }
   ],
   "source": [
    "crypto_returns= data.pct_change().dropna()\n",
    "crypto_returns.head()"
   ]
  },
  {
   "cell_type": "code",
   "execution_count": 21,
   "id": "77393414",
   "metadata": {},
   "outputs": [],
   "source": [
    "weights_crypto = np.array([0.34, 0.33, 0.33])"
   ]
  },
  {
   "cell_type": "code",
   "execution_count": 22,
   "id": "9c4c17bf",
   "metadata": {},
   "outputs": [],
   "source": [
    "# Calculate Expected Daily Return\n",
    "portfolio_return_crypto = crypto_returns.dot(weights_crypto)\n",
    "expected_returns_crypto = portfolio_return_crypto.mean()\n"
   ]
  },
  {
   "cell_type": "code",
   "execution_count": 23,
   "id": "aab2242f",
   "metadata": {},
   "outputs": [
    {
     "name": "stdout",
     "output_type": "stream",
     "text": [
      "Expected Daily Return crytp: 0.0017\n",
      "Portfolio Variance crypto: 0.000382\n",
      "Portfolio Volatility crypto (Risk): 0.0196\n"
     ]
    }
   ],
   "source": [
    "# Calculate covariance matrix of returns\n",
    "crypto_cov_matrix = crypto_returns.cov()\n",
    "\n",
    "# Calculate portfolio variance and volatility\n",
    "portfolio_variance = np.dot(weights_crypto.T, np.dot(crypto_cov_matrix , weights_crypto))\n",
    "portfolio_volatility = np.sqrt(portfolio_variance)\n",
    "\n",
    "# Print results\n",
    "print(f\"Expected Daily Return crytp: {expected_returns_crypto:.4f}\")\n",
    "print(f\"Portfolio Variance crypto: {portfolio_variance:.6f}\")\n",
    "print(f\"Portfolio Volatility crypto (Risk): {portfolio_volatility:.4f}\")"
   ]
  },
  {
   "cell_type": "code",
   "execution_count": 24,
   "id": "50729335",
   "metadata": {},
   "outputs": [
    {
     "name": "stdout",
     "output_type": "stream",
     "text": [
      "Value at Risk commodities(5%): -0.0312\n",
      "Value at Risk shares(5%): -0.0190\n",
      "Value at Risk crypto(5%): -0.0390\n"
     ]
    }
   ],
   "source": [
    "VaR_95 = np.percentile(commodities_returns, 5)\n",
    "print(f\"Value at Risk commodities(5%): {VaR_95:.4f}\")\n",
    "VaR_95 = np.percentile(share_returns, 5)\n",
    "print(f\"Value at Risk shares(5%): {VaR_95:.4f}\")\n",
    "VaR_95 = np.percentile(crypto_returns, 5)\n",
    "print(f\"Value at Risk crypto(5%): {VaR_95:.4f}\")\n"
   ]
  },
  {
   "cell_type": "code",
   "execution_count": 27,
   "id": "7e1435ba",
   "metadata": {
    "scrolled": false
   },
   "outputs": [
    {
     "name": "stderr",
     "output_type": "stream",
     "text": [
      "[*********************100%%**********************]  3 of 3 completed\n",
      "[*********************100%%**********************]  3 of 3 completed\n",
      "[*********************100%%**********************]  3 of 3 completed\n",
      "C:\\Users\\naman\\anaconda3\\Lib\\site-packages\\numpy\\core\\fromnumeric.py:57: RuntimeWarning: overflow encountered in accumulate\n",
      "  return bound(*args, **kwds)\n"
     ]
    },
    {
     "data": {
      "image/png": "[encoded data removed]",
      "text/plain": [
       "<Figure size 1200x600 with 1 Axes>"
      ]
     },
     "metadata": {},
     "output_type": "display_data"
    }
   ],
   "source": [
    "\n",
    "# Define the list of stock symbols for each portfolio\n",
    "portfolio_commodities = ['GC=F', 'SI=F', 'CL=F']  # Gold, Silver, Crude Oil Futures\n",
    "portfolio_crypto = ['BTC-USD', 'ETH-USD', 'USDT-USD']  # Bitcoin, Ethereum, Tether\n",
    "portfolio_shares = ['RELIANCE.NS','TCS.NS','HDFCBANK.NS']  # Apple, Microsoft, Google\n",
    "\n",
    "# Define the start and end date\n",
    "stockStartDate = '2013-01-01'\n",
    "today = '2024-12-11'\n",
    "\n",
    "# Function to get portfolio data from Yahoo Finance\n",
    "def getMyPortfolio(stocks, start, end, col=\"Adj Close\"):\n",
    "    # Fetch data using Yahoo Finance\n",
    "    data = yf.download(stocks, start=start, end=end)[col]\n",
    "    return data\n",
    "\n",
    "# Function to calculate and plot all portfolios\n",
    "def showGraph(portfolio_commodities, portfolio_crypto, portfolio_equities, start=stockStartDate, end=today, col=\"Adj Close\"):\n",
    "    # Fetch the stock data for each portfolio\n",
    "    commodities_data = getMyPortfolio(portfolio_commodities, start, end, col)\n",
    "    crypto_data = getMyPortfolio(portfolio_crypto, start, end, col)\n",
    "    equities_data = getMyPortfolio(portfolio_equities, start, end, col)\n",
    "\n",
    "    # Calculate cumulative returns for each portfolio\n",
    "    cumulative_commodities = (1 + commodities_data).cumprod() - 1\n",
    "    cumulative_crypto = (1 + crypto_data).cumprod() - 1\n",
    "    cumulative_equities = (1 + equities_data).cumprod() - 1\n",
    "\n",
    "    # Plotting all portfolios on the same graph\n",
    "    plt.figure(figsize=(12, 6))\n",
    "\n",
    "    # Plot each portfolio's cumulative returns\n",
    "    plt.plot(cumulative_commodities.sum(axis=1), label='Commodities Portfolio', linewidth=2)\n",
    "    plt.plot(cumulative_crypto.sum(axis=1), label='Crypto Portfolio', linewidth=2)\n",
    "    plt.plot(cumulative_equities.sum(axis=1), label='Equities Portfolio', linewidth=2)\n",
    "\n",
    "    # Add title and labels\n",
    "    plt.title(f\"Portfolio Cumulative Returns Comparison ({col})\", fontsize=16)\n",
    "    plt.xlabel('Date', fontsize=14)\n",
    "    plt.ylabel(f'Cumulative {col} Return', fontsize=14)\n",
    "    plt.legend(loc='upper left')\n",
    "    plt.grid(True)\n",
    "\n",
    "    # Show the graph\n",
    "    plt.show()\n",
    "\n",
    "# Call the function to display the comparison\n",
    "showGraph(portfolio_commodities, portfolio_crypto, portfolio_equities, start=stockStartDate, end=today, col=\"Adj Close\")\n"
   ]
  },
  {
   "cell_type": "code",
   "execution_count": 25,
   "id": "867054ba",
   "metadata": {},
   "outputs": [
    {
     "name": "stderr",
     "output_type": "stream",
     "text": [
      "[*********************100%%**********************]  3 of 3 completed\n",
      "[*********************100%%**********************]  3 of 3 completed\n",
      "[*********************100%%**********************]  3 of 3 completed\n",
      "C:\\Users\\naman\\anaconda3\\Lib\\site-packages\\numpy\\core\\fromnumeric.py:57: RuntimeWarning: overflow encountered in accumulate\n",
      "  return bound(*args, **kwds)\n",
      "C:\\Users\\naman\\anaconda3\\Lib\\site-packages\\numpy\\core\\fromnumeric.py:57: RuntimeWarning: overflow encountered in accumulate\n",
      "  return bound(*args, **kwds)\n",
      "C:\\Users\\naman\\anaconda3\\Lib\\site-packages\\matplotlib\\ticker.py:2094: RuntimeWarning: overflow encountered in multiply\n",
      "  steps = self._extended_steps * scale\n"
     ]
    },
    {
     "data": {
      "image/png": "[encoded data removed]",
      "text/plain": [
       "<Figure size 1200x600 with 1 Axes>"
      ]
     },
     "metadata": {},
     "output_type": "display_data"
    }
   ],
   "source": [
    "# Define the list of stock symbols for each portfolio\n",
    "portfolio_commodities = ['GC=F', 'SI=F', 'CL=F']  # Gold, Silver, Crude Oil Futures\n",
    "portfolio_crypto = ['BTC-USD', 'ETH-USD', 'USDT-USD']  # Bitcoin, Ethereum, Tether\n",
    "portfolio_equities = ['RELIANCE.NS', 'TCS.NS', 'HDFCBANK.NS']  # Reliance, TCS, HDFC Bank\n",
    "\n",
    "# Define the start and end date\n",
    "stockStartDate = '2013-01-01'\n",
    "today = '2024-12-11'\n",
    "\n",
    "# Function to get portfolio data from Yahoo Finance\n",
    "def getMyPortfolio(stocks, start, end, col=\"Adj Close\"):\n",
    "    data = yf.download(stocks, start=start, end=end)[col]\n",
    "    return data\n",
    "\n",
    "# Function to calculate cumulative normalized returns\n",
    "def calculate_normalized_cumulative_returns(data):\n",
    "    # Normalize the data so that all series start at 1\n",
    "    normalized_data = data / data.iloc[0]\n",
    "    # Calculate cumulative returns\n",
    "    cumulative_returns = normalized_data.cumprod()\n",
    "    return cumulative_returns\n",
    "\n",
    "# Function to calculate and plot all portfolios\n",
    "def showGraph(portfolio_commodities, portfolio_crypto, portfolio_equities, start=stockStartDate, end=today, col=\"Adj Close\"):\n",
    "    # Fetch the stock data for each portfolio\n",
    "    commodities_data = getMyPortfolio(portfolio_commodities, start, end, col)\n",
    "    crypto_data = getMyPortfolio(portfolio_crypto, start, end, col)\n",
    "    equities_data = getMyPortfolio(portfolio_equities, start, end, col)\n",
    "\n",
    "    # Calculate normalized cumulative returns for each portfolio\n",
    "    cumulative_commodities = calculate_normalized_cumulative_returns(commodities_data.mean(axis=1))\n",
    "    cumulative_crypto = calculate_normalized_cumulative_returns(crypto_data.mean(axis=1))\n",
    "    cumulative_equities = calculate_normalized_cumulative_returns(equities_data.mean(axis=1))\n",
    "\n",
    "    # Plotting all portfolios on the same graph\n",
    "    plt.figure(figsize=(12, 6))\n",
    "\n",
    "    # Plot each portfolio's cumulative normalized returns\n",
    "    plt.plot(cumulative_commodities, label='Commodities Portfolio', linewidth=2)\n",
    "    plt.plot(cumulative_crypto, label='Crypto Portfolio', linewidth=2)\n",
    "    plt.plot(cumulative_equities, label='Equities Portfolio', linewidth=2)\n",
    "\n",
    "    # Add title and labels\n",
    "    plt.title(f\"Portfolio Cumulative Returns Comparison ({col})\", fontsize=16)\n",
    "    plt.xlabel('Date', fontsize=14)\n",
    "    plt.ylabel(f'Cumulative Normalized {col} Return', fontsize=14)\n",
    "    plt.legend(loc='upper left')\n",
    "    plt.grid(True)\n",
    "\n",
    "    # Show the graph\n",
    "    plt.show()\n",
    "\n",
    "# Call the function to display the comparison\n",
    "showGraph(portfolio_commodities, portfolio_crypto, portfolio_equities, start=stockStartDate, end=today, col=\"Adj Close\")\n"
   ]
  }
 ],
 "metadata": {
  "kernelspec": {
   "display_name": "Python 3 (ipykernel)",
   "language": "python",
   "name": "python3"
  },
  "language_info": {
   "codemirror_mode": {
    "name": "ipython",
    "version": 3
   },
   "file_extension": ".py",
   "mimetype": "text/x-python",
   "name": "python",
   "nbconvert_exporter": "python",
   "pygments_lexer": "ipython3",
   "version": "3.11.5"
  }
 },
 "nbformat": 4,
 "nbformat_minor": 5
}
